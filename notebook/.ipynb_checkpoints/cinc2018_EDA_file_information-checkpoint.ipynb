{
 "cells": [
  {
   "cell_type": "markdown",
   "metadata": {},
   "source": [
    "# Introduction\n",
    "In this year's PhysioNet Challenge we will use a variety of physiological signals, collected during polysomnographic sleep studies, to detect these other sources of arousal (non-apnea) during sleep.\n",
    "\n",
    "## Challenge data\n",
    "- the number of subjects: 1985\n",
    "    - trianing: 994\n",
    "    - test: 989\n",
    "- six sleep stages were annotated in 30 second contiguous intervals: \n",
    "     - wakefulness\n",
    "     - stage 1\n",
    "     - stage 2\n",
    "     - stage 3\n",
    "     - rapid eye movement (REM)\n",
    "     - undefined\n",
    "- The annotated arousals were classified as either\n",
    "    - spontaneous arousals\n",
    "    - respiratory effort related arousals (RERA)\n",
    "    - bruxisms\n",
    "    - hypoventilations\n",
    "    - hypopneas\n",
    "    - apneas (central, obstructive and mixed)\n",
    "    - vocalizations\n",
    "    - snores\n",
    "    - periodic leg movements\n",
    "    - Cheyne-Stokes breathing or partial airway obstructions\n",
    "- signals recorded\n",
    "    - electroencephalography (EEG)\n",
    "    - electrooculography (EOG)\n",
    "    - electromyography (EMG)\n",
    "    - electrocardiology (EKG)\n",
    "    - oxygen saturation (SaO2)\n",
    "- Excluding SaO2, all signals were sampled to 200 Hz\n",
    "- For analytic convenience, SaO2 was resampled to 200 Hz, and is measured as a percentage\n",
    "- The goal of the challenge is use information from the available signals to correctly classify target arousal regions. For the purpose of the Challenge, target arousals are defined as regions where either of the following conditions were met:"
   ]
  },
  {
   "cell_type": "markdown",
   "metadata": {},
   "source": [
    "## Signals\n",
    "| F3-M2 --- O2M1| E1-M2 | Chin1-Chin2 | ABD | CHEST | Airflow | SaO2 | ECG | Arousals |\n",
    "|:--:|:--:|:--:|:--:|:--:|:--:|:--:|:--:|:--:|\n",
    "| EEG | EOG | あご | 腹部 | 胸部 | 呼吸 | 酸素飽和度 | 心電図 | ラベル |\n",
    "|uV|uV|uV|uV|uV|uV|%|mV|1:覚醒, 0:非覚醒, -1:不明 | "
   ]
  },
  {
   "cell_type": "markdown",
   "metadata": {},
   "source": [
    "# Preparations\n",
    "## Load libraries"
   ]
  },
  {
   "cell_type": "code",
   "execution_count": 2,
   "metadata": {},
   "outputs": [],
   "source": [
    "import os\n",
    "import pandas as pd\n",
    "import matplotlib.pyplot as plt\n",
    "%matplotlib inline\n",
    "from multiprocessing import Pool\n",
    "import numpy as np\n",
    "from tqdm import tqdm\n",
    "\n",
    "os.chdir('../src')\n",
    "import physionetchallenge2018_lib as phyc"
   ]
  },
  {
   "cell_type": "markdown",
   "metadata": {},
   "source": [
    "## Load data"
   ]
  },
  {
   "cell_type": "code",
   "execution_count": 3,
   "metadata": {
    "scrolled": true
   },
   "outputs": [],
   "source": [
    "#load directry_names\n",
    "record_names_training = pd.read_table('../input/training/RECORDS', header=None)"
   ]
  },
  {
   "cell_type": "code",
   "execution_count": 5,
   "metadata": {},
   "outputs": [
    {
     "name": "stderr",
     "output_type": "stream",
     "text": [
      "/home/kentnagumo/anaconda3/lib/python3.6/site-packages/h5py/__init__.py:36: FutureWarning: Conversion of the second argument of issubdtype from `float` to `np.floating` is deprecated. In future, it will be treated as `np.float64 == np.dtype(float).type`.\n",
      "  from ._conv import register_converters as _register_converters\n"
     ]
    },
    {
     "name": "stdout",
     "output_type": "stream",
     "text": [
      "{} is end 0\n"
     ]
    }
   ],
   "source": [
    "#multi_processing\n",
    "def feature_engineering(i):\n",
    "    record_name = '../input/training/' + record_names_training[0][i] + record_names_training[0][i].strip('/')\n",
    "    header_file = record_name + '.hea'\n",
    "    signal_file = record_name + '.mat'\n",
    "    arousal_file = record_name + '-arousal.mat'\n",
    "    \n",
    "    # Get the signal names from the header file\n",
    "    signal_names, Fs, n_samples = phyc.import_signal_names(header_file)\n",
    "    signal_names = list(np.append(signal_names, 'arousals'))\n",
    "    \n",
    "    # Convert this subject's data into a pandas dataframe\n",
    "    this_data = phyc.get_subject_data(arousal_file, signal_file, signal_names)\n",
    "    print('{} is end',format(i) )\n",
    "    return this_data\n",
    "\n",
    "\n",
    "\n",
    "p = Pool(8)\n",
    "training_data = p.map(feature_engineering, range(0,1,1))\n"
   ]
  },
  {
   "cell_type": "code",
   "execution_count": null,
   "metadata": {},
   "outputs": [],
   "source": [
    "data = training_data[0]"
   ]
  },
  {
   "cell_type": "markdown",
   "metadata": {},
   "source": [
    "## Header"
   ]
  },
  {
   "cell_type": "code",
   "execution_count": 8,
   "metadata": {},
   "outputs": [
    {
     "data": {
      "text/html": [
       "<div>\n",
       "<style scoped>\n",
       "    .dataframe tbody tr th:only-of-type {\n",
       "        vertical-align: middle;\n",
       "    }\n",
       "\n",
       "    .dataframe tbody tr th {\n",
       "        vertical-align: top;\n",
       "    }\n",
       "\n",
       "    .dataframe thead th {\n",
       "        text-align: right;\n",
       "    }\n",
       "</style>\n",
       "<table border=\"1\" class=\"dataframe\">\n",
       "  <thead>\n",
       "    <tr style=\"text-align: right;\">\n",
       "      <th></th>\n",
       "      <th>F3-M2</th>\n",
       "      <th>F4-M1</th>\n",
       "      <th>C3-M2</th>\n",
       "      <th>C4-M1</th>\n",
       "      <th>O1-M2</th>\n",
       "      <th>O2-M1</th>\n",
       "      <th>E1-M2</th>\n",
       "      <th>Chin1-Chin2</th>\n",
       "      <th>ABD</th>\n",
       "      <th>CHEST</th>\n",
       "      <th>AIRFLOW</th>\n",
       "      <th>SaO2</th>\n",
       "      <th>ECG</th>\n",
       "      <th>arousals</th>\n",
       "    </tr>\n",
       "  </thead>\n",
       "  <tbody>\n",
       "    <tr>\n",
       "      <th>0</th>\n",
       "      <td>-9.0</td>\n",
       "      <td>5.0</td>\n",
       "      <td>-5.0</td>\n",
       "      <td>9.0</td>\n",
       "      <td>5.0</td>\n",
       "      <td>12.0</td>\n",
       "      <td>-21.0</td>\n",
       "      <td>16.0</td>\n",
       "      <td>-41.0</td>\n",
       "      <td>-2.0</td>\n",
       "      <td>39.0</td>\n",
       "      <td>30496.0</td>\n",
       "      <td>-53.0</td>\n",
       "      <td>0.0</td>\n",
       "    </tr>\n",
       "    <tr>\n",
       "      <th>1</th>\n",
       "      <td>-36.0</td>\n",
       "      <td>2.0</td>\n",
       "      <td>-33.0</td>\n",
       "      <td>5.0</td>\n",
       "      <td>-27.0</td>\n",
       "      <td>3.0</td>\n",
       "      <td>-50.0</td>\n",
       "      <td>25.0</td>\n",
       "      <td>-36.0</td>\n",
       "      <td>0.0</td>\n",
       "      <td>93.0</td>\n",
       "      <td>30496.0</td>\n",
       "      <td>-103.0</td>\n",
       "      <td>0.0</td>\n",
       "    </tr>\n",
       "    <tr>\n",
       "      <th>2</th>\n",
       "      <td>-23.0</td>\n",
       "      <td>2.0</td>\n",
       "      <td>-23.0</td>\n",
       "      <td>1.0</td>\n",
       "      <td>-21.0</td>\n",
       "      <td>-6.0</td>\n",
       "      <td>-40.0</td>\n",
       "      <td>-4.0</td>\n",
       "      <td>-27.0</td>\n",
       "      <td>3.0</td>\n",
       "      <td>62.0</td>\n",
       "      <td>30496.0</td>\n",
       "      <td>6.0</td>\n",
       "      <td>0.0</td>\n",
       "    </tr>\n",
       "    <tr>\n",
       "      <th>3</th>\n",
       "      <td>-11.0</td>\n",
       "      <td>1.0</td>\n",
       "      <td>-12.0</td>\n",
       "      <td>-4.0</td>\n",
       "      <td>-11.0</td>\n",
       "      <td>-11.0</td>\n",
       "      <td>-30.0</td>\n",
       "      <td>-29.0</td>\n",
       "      <td>-17.0</td>\n",
       "      <td>6.0</td>\n",
       "      <td>41.0</td>\n",
       "      <td>30496.0</td>\n",
       "      <td>58.0</td>\n",
       "      <td>0.0</td>\n",
       "    </tr>\n",
       "    <tr>\n",
       "      <th>4</th>\n",
       "      <td>-23.0</td>\n",
       "      <td>5.0</td>\n",
       "      <td>-22.0</td>\n",
       "      <td>-1.0</td>\n",
       "      <td>-19.0</td>\n",
       "      <td>-8.0</td>\n",
       "      <td>-41.0</td>\n",
       "      <td>13.0</td>\n",
       "      <td>-8.0</td>\n",
       "      <td>9.0</td>\n",
       "      <td>72.0</td>\n",
       "      <td>30496.0</td>\n",
       "      <td>-64.0</td>\n",
       "      <td>0.0</td>\n",
       "    </tr>\n",
       "  </tbody>\n",
       "</table>\n",
       "</div>"
      ],
      "text/plain": [
       "   F3-M2  F4-M1  C3-M2  C4-M1  O1-M2  O2-M1  E1-M2  Chin1-Chin2   ABD  CHEST  \\\n",
       "0   -9.0    5.0   -5.0    9.0    5.0   12.0  -21.0         16.0 -41.0   -2.0   \n",
       "1  -36.0    2.0  -33.0    5.0  -27.0    3.0  -50.0         25.0 -36.0    0.0   \n",
       "2  -23.0    2.0  -23.0    1.0  -21.0   -6.0  -40.0         -4.0 -27.0    3.0   \n",
       "3  -11.0    1.0  -12.0   -4.0  -11.0  -11.0  -30.0        -29.0 -17.0    6.0   \n",
       "4  -23.0    5.0  -22.0   -1.0  -19.0   -8.0  -41.0         13.0  -8.0    9.0   \n",
       "\n",
       "   AIRFLOW     SaO2    ECG  arousals  \n",
       "0     39.0  30496.0  -53.0       0.0  \n",
       "1     93.0  30496.0 -103.0       0.0  \n",
       "2     62.0  30496.0    6.0       0.0  \n",
       "3     41.0  30496.0   58.0       0.0  \n",
       "4     72.0  30496.0  -64.0       0.0  "
      ]
     },
     "execution_count": 8,
     "metadata": {},
     "output_type": "execute_result"
    }
   ],
   "source": [
    "data.head()"
   ]
  },
  {
   "cell_type": "markdown",
   "metadata": {},
   "source": [
    "## dtype"
   ]
  },
  {
   "cell_type": "code",
   "execution_count": 9,
   "metadata": {},
   "outputs": [
    {
     "data": {
      "text/plain": [
       "F3-M2          float64\n",
       "F4-M1          float64\n",
       "C3-M2          float64\n",
       "C4-M1          float64\n",
       "O1-M2          float64\n",
       "O2-M1          float64\n",
       "E1-M2          float64\n",
       "Chin1-Chin2    float64\n",
       "ABD            float64\n",
       "CHEST          float64\n",
       "AIRFLOW        float64\n",
       "SaO2           float64\n",
       "ECG            float64\n",
       "arousals       float64\n",
       "dtype: object"
      ]
     },
     "execution_count": 9,
     "metadata": {},
     "output_type": "execute_result"
    }
   ],
   "source": [
    "data.dtypes"
   ]
  },
  {
   "cell_type": "markdown",
   "metadata": {},
   "source": [
    "## Plot time series"
   ]
  },
  {
   "cell_type": "code",
   "execution_count": null,
   "metadata": {},
   "outputs": [],
   "source": [
    "plot_time  = range(0, len(data), 1/200)"
   ]
  },
  {
   "cell_type": "code",
   "execution_count": 10,
   "metadata": {},
   "outputs": [
    {
     "data": {
      "text/plain": [
       "count    5.147000e+06\n",
       "mean    -2.429629e-02\n",
       "std      3.158026e-01\n",
       "min     -1.000000e+00\n",
       "25%      0.000000e+00\n",
       "50%      0.000000e+00\n",
       "75%      0.000000e+00\n",
       "max      1.000000e+00\n",
       "Name: arousals, dtype: float64"
      ]
     },
     "execution_count": 10,
     "metadata": {},
     "output_type": "execute_result"
    }
   ],
   "source": [
    "data.arousals.describe()"
   ]
  },
  {
   "cell_type": "code",
   "execution_count": 12,
   "metadata": {},
   "outputs": [
    {
     "data": {
      "text/plain": [
       "<matplotlib.axes._subplots.AxesSubplot at 0x7f8a8455ac18>"
      ]
     },
     "execution_count": 12,
     "metadata": {},
     "output_type": "execute_result"
    },
    {
     "data": {
      "image/png": "[encoded data removed]",
      "text/plain": [
       "<Figure size 1440x720 with 1 Axes>"
      ]
     },
     "metadata": {},
     "output_type": "display_data"
    }
   ],
   "source": [
    "(data['arousals']).plot.hist(bins=8, figsize=(20,10), edgecolor='white',range=[-2,2])"
   ]
  },
  {
   "cell_type": "code",
   "execution_count": 14,
   "metadata": {},
   "outputs": [
    {
     "data": {
      "text/plain": [
       " 0.0    0.899678\n",
       "-1.0    0.062309\n",
       " 1.0    0.038013\n",
       "Name: arousals, dtype: float64"
      ]
     },
     "execution_count": 14,
     "metadata": {},
     "output_type": "execute_result"
    }
   ],
   "source": [
    "data.arousals.value_counts()/len(data)"
   ]
  },
  {
   "cell_type": "code",
   "execution_count": null,
   "metadata": {},
   "outputs": [],
   "source": []
  }
 ],
 "metadata": {
  "kernelspec": {
   "display_name": "Python 3",
   "language": "python",
   "name": "python3"
  },
  "language_info": {
   "codemirror_mode": {
    "name": "ipython",
    "version": 3
   },
   "file_extension": ".py",
   "mimetype": "text/x-python",
   "name": "python",
   "nbconvert_exporter": "python",
   "pygments_lexer": "ipython3",
   "version": "3.6.5"
  }
 },
 "nbformat": 4,
 "nbformat_minor": 2
}
