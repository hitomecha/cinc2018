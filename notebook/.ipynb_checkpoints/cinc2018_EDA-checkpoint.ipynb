{
 "cells": [
  {
   "cell_type": "markdown",
   "metadata": {},
   "source": [
    "# Introduction\n",
    "In this year's PhysioNet Challenge we will use a variety of physiological signals, collected during polysomnographic sleep studies, to detect these other sources of arousal (non-apnea) during sleep.\n",
    "\n",
    "## Challenge data\n",
    "- the number of subjects: 1985\n",
    "    - trianing: 994\n",
    "    - test: 989\n",
    "- six sleep stages were annotated in 30 second contiguous intervals: \n",
    "     - wakefulness\n",
    "     - stage 1\n",
    "     - stage 2\n",
    "     - stage 3\n",
    "     - rapid eye movement (REM)\n",
    "     - undefined\n",
    "- The annotated arousals were classified as either\n",
    "    - spontaneous arousals\n",
    "    - respiratory effort related arousals (RERA)\n",
    "    - bruxisms\n",
    "    - hypoventilations\n",
    "    - hypopneas\n",
    "    - apneas (central, obstructive and mixed)\n",
    "    - vocalizations\n",
    "    - snores\n",
    "    - periodic leg movements\n",
    "    - Cheyne-Stokes breathing or partial airway obstructions\n",
    "- signals recorded\n",
    "    - electroencephalography (EEG)\n",
    "    - electrooculography (EOG)\n",
    "    - electromyography (EMG)\n",
    "    - electrocardiology (EKG)\n",
    "    - oxygen saturation (SaO2)\n",
    "- Excluding SaO2, all signals were sampled to 200 Hz\n",
    "- For analytic convenience, SaO2 was resampled to 200 Hz, and is measured as a percentage\n",
    "- The goal of the challenge is use information from the available signals to correctly classify target arousal regions. For the purpose of the Challenge, target arousals are defined as regions where either of the following conditions were met:"
   ]
  },
  {
   "cell_type": "markdown",
   "metadata": {},
   "source": [
    "## Signals\n",
    "| F3-M2 --- O2M1| E1-M2 | Chin1-Chin2 | ABD | CHEST | Airflow | SaO2 | ECG | Arousals |\n",
    "|:--:|:--:|:--:|:--:|:--:|:--:|:--:|:--:|:--:|\n",
    "| EEG | EOG | あご | 腹部 | 胸部 | 呼吸 | 酸素飽和度 | 心電図 | ラベル |\n",
    "|uV|uV|uV|uV|uV|uV|%|mV|1:覚醒, 0:非覚醒, -1:不明 | "
   ]
  },
  {
   "cell_type": "markdown",
   "metadata": {},
   "source": [
    "# Preparations\n",
    "## Load libraries"
   ]
  },
  {
   "cell_type": "code",
   "execution_count": null,
   "metadata": {},
   "outputs": [],
   "source": [
    "import os\n",
    "import pandas as pd\n",
    "import matplotlib.pyplot as plt\n",
    "%matplotlib inline\n",
    "from multiprocessing import Pool\n",
    "import numpy as np\n",
    "from tqdm import tqdm\n",
    "\n",
    "os.chdir('../src')\n",
    "import physionetchallenge2018_lib as phyc"
   ]
  },
  {
   "cell_type": "markdown",
   "metadata": {},
   "source": [
    "## Load data"
   ]
  },
  {
   "cell_type": "code",
   "execution_count": null,
   "metadata": {
    "scrolled": true
   },
   "outputs": [],
   "source": [
    "#load directry_names\n",
    "record_names_training = pd.read_table('../input/training/RECORDS', header=None)"
   ]
  },
  {
   "cell_type": "code",
   "execution_count": null,
   "metadata": {},
   "outputs": [],
   "source": [
    "#multi_processing\n",
    "def feature_engineering(i):\n",
    "    record_name = '../input/training/' + record_names_training[0][i] + record_names_training[0][i].strip('/')\n",
    "    header_file = record_name + '.hea'\n",
    "    signal_file = record_name + '.mat'\n",
    "    arousal_file = record_name + '-arousal.mat'\n",
    "    \n",
    "    # Get the signal names from the header file\n",
    "    signal_names, Fs, n_samples = phyc.import_signal_names(header_file)\n",
    "    signal_names = list(np.append(signal_names, 'arousals'))\n",
    "    \n",
    "    # Convert this subject's data into a pandas dataframe\n",
    "    this_data = phyc.get_subject_data(arousal_file, signal_file, signal_names)\n",
    "    print('{} is end',format(i) )\n",
    "    return this_data\n",
    "\n",
    "p = Pool(8)\n",
    "resultList = p.map(feature_engineering, range(0,10,1))\n"
   ]
  },
  {
   "cell_type": "code",
   "execution_count": null,
   "metadata": {},
   "outputs": [],
   "source": [
    "resultList"
   ]
  },
  {
   "cell_type": "code",
   "execution_count": null,
   "metadata": {
    "scrolled": true
   },
   "outputs": [],
   "source": [
    "#load files\n",
    "features_training = [''] * len(record_names_training)\n",
    "#for i in tqdm(range(len(record_names_training))):\n",
    "for i in range(0, 10, 1):\n",
    "    \n",
    "    record_name = '../input/training/' + record_names_training[0][i] + record_names_training[0][i].strip('/')\n",
    "    header_file = record_name + '.hea'\n",
    "    signal_file = record_name + '.mat'\n",
    "    arousal_file = record_name + '-arousal.mat'\n",
    "    \n",
    "    # Get the signal names from the header file\n",
    "    signal_names, Fs, n_samples = phyc.import_signal_names(header_file)\n",
    "    signal_names = list(np.append(signal_names, 'arousals'))\n",
    "    \n",
    "    # Convert this subject's data into a pandas dataframe\n",
    "    #this_data = phyc.get_subject_data(arousal_file, signal_file, signal_names)\n",
    "\n",
    "    "
   ]
  },
  {
   "cell_type": "code",
   "execution_count": null,
   "metadata": {},
   "outputs": [],
   "source": [
    "training = [''] * len(record_names_training)"
   ]
  },
  {
   "cell_type": "code",
   "execution_count": null,
   "metadata": {},
   "outputs": [],
   "source": [
    "this_data.head()"
   ]
  },
  {
   "cell_type": "code",
   "execution_count": null,
   "metadata": {},
   "outputs": [],
   "source": [
    "this_data.dtypes"
   ]
  },
  {
   "cell_type": "code",
   "execution_count": null,
   "metadata": {},
   "outputs": [],
   "source": [
    "this_data.arousals.describe()"
   ]
  },
  {
   "cell_type": "code",
   "execution_count": null,
   "metadata": {},
   "outputs": [],
   "source": [
    "(this_data['arousals']).plot.hist(bins=8, figsize=(20,10), edgecolor='white',range=[-2,2])"
   ]
  },
  {
   "cell_type": "code",
   "execution_count": null,
   "metadata": {},
   "outputs": [],
   "source": [
    "this_data.arousals.value_counts()/len(this_data)"
   ]
  },
  {
   "cell_type": "code",
   "execution_count": null,
   "metadata": {},
   "outputs": [],
   "source": []
  }
 ],
 "metadata": {
  "kernelspec": {
   "display_name": "Python 3",
   "language": "python",
   "name": "python3"
  },
  "language_info": {
   "codemirror_mode": {
    "name": "ipython",
    "version": 3
   },
   "file_extension": ".py",
   "mimetype": "text/x-python",
   "name": "python",
   "nbconvert_exporter": "python",
   "pygments_lexer": "ipython3",
   "version": "3.6.5"
  }
 },
 "nbformat": 4,
 "nbformat_minor": 2
}
